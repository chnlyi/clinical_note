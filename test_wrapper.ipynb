{
 "cells": [
  {
   "cell_type": "code",
   "execution_count": 1,
   "metadata": {},
   "outputs": [
    {
     "name": "stderr",
     "output_type": "stream",
     "text": [
      "Using TensorFlow backend.\n"
     ]
    },
    {
     "data": {
      "text/html": [
       "<style>.container { width:60% !important; }</style>"
      ],
      "text/plain": [
       "<IPython.core.display.HTML object>"
      ]
     },
     "metadata": {},
     "output_type": "display_data"
    }
   ],
   "source": [
    "import warnings\n",
    "warnings.filterwarnings('ignore')\n",
    "import numpy as np\n",
    "import pandas as pd\n",
    "import pickle\n",
    "import itertools\n",
    "import requests\n",
    "import re\n",
    "import matplotlib.pyplot as plt\n",
    "from gensim.models import Word2Vec\n",
    "from gensim.utils import simple_preprocess\n",
    "from IPython.display import display, HTML, Markdown\n",
    "from lightgbm import LGBMClassifier\n",
    "from matplotlib.ticker import FuncFormatter\n",
    "from keras.callbacks import Callback\n",
    "from keras.layers import Input, Dense, Embedding, SpatialDropout1D, concatenate, Bidirectional, \\\n",
    "    GlobalAveragePooling1D, GlobalMaxPooling1D, CuDNNGRU, CuDNNLSTM, GRU, LSTM\n",
    "from keras.models import Model\n",
    "from keras.preprocessing.text import Tokenizer, text_to_word_sequence\n",
    "from keras.preprocessing.sequence import pad_sequences\n",
    "from keras.wrappers.scikit_learn import KerasClassifier\n",
    "from scikitplot.metrics import plot_confusion_matrix as pcm\n",
    "from sklearn.decomposition import TruncatedSVD\n",
    "from sklearn.ensemble import RandomForestClassifier\n",
    "from sklearn.feature_extraction.text import CountVectorizer, TfidfVectorizer\n",
    "from sklearn.linear_model import LogisticRegression\n",
    "from sklearn.metrics import log_loss, accuracy_score, roc_auc_score, confusion_matrix\n",
    "from sklearn.model_selection import cross_val_predict, StratifiedKFold, train_test_split\n",
    "from sklearn.multioutput import MultiOutputClassifier\n",
    "from sklearn.naive_bayes import GaussianNB\n",
    "from sklearn.neighbors import KNeighborsClassifier\n",
    "from sklearn.svm import SVC\n",
    "display(HTML(\"<style>.container { width:60% !important; }</style>\"))\n",
    "pd.set_option('max_colwidth', 400)"
   ]
  },
  {
   "cell_type": "code",
   "execution_count": 2,
   "metadata": {
    "slideshow": {
     "slide_type": "-"
    }
   },
   "outputs": [
    {
     "data": {
      "text/html": [
       "<div>\n",
       "<style scoped>\n",
       "    .dataframe tbody tr th:only-of-type {\n",
       "        vertical-align: middle;\n",
       "    }\n",
       "\n",
       "    .dataframe tbody tr th {\n",
       "        vertical-align: top;\n",
       "    }\n",
       "\n",
       "    .dataframe thead th {\n",
       "        text-align: right;\n",
       "    }\n",
       "</style>\n",
       "<table border=\"1\" class=\"dataframe\">\n",
       "  <thead>\n",
       "    <tr style=\"text-align: right;\">\n",
       "      <th></th>\n",
       "      <th>text</th>\n",
       "      <th>Nutrition</th>\n",
       "      <th>Cognitive</th>\n",
       "      <th>Exercise</th>\n",
       "      <th>Footwear</th>\n",
       "      <th>cui</th>\n",
       "      <th>text_cui</th>\n",
       "    </tr>\n",
       "  </thead>\n",
       "  <tbody>\n",
       "    <tr>\n",
       "      <th>0</th>\n",
       "      <td>GENERAL APPEARANCE: Well developed, well nourished, alert and cooperative, and appears to be in no acute distress. HEENT: Eyes PERRL, EOMI. Fundi normal, vision is grossly intact. Teeth and gingiva in good general condition. NECK: Neck supple, non-tender without lymphadenopathy, masses or thyromegaly. No JVD or HJR. CARDIAC: Normal S1 and S2. No S3, S4 or murmurs. Rhythm is regular. There is n...</td>\n",
       "      <td>1</td>\n",
       "      <td>1</td>\n",
       "      <td>0</td>\n",
       "      <td>0</td>\n",
       "      <td>C0017562 C0007765 C0037004 C0015392 C0015385 C0019552 C0740422 C0024109 C0040426 C0018787 C0000726 C0027342 C0021853 C0027530 C1123023 C0022417 C0302142 C0042345 C0012634 C0018808 C0043144 C0042789 C0010520 C0332516 C0231303 C0006318 C0034642 C0034929 C0239110 C0427198 C0221198 C0030232 C1642390 C0239949 C0497156 C0013604 C0035508 C0425687 C0036658 C0018021 C0231683 C0030987 C0004339</td>\n",
       "      <td>GENERAL APPEARANCE: Well developed, well nourished, alert and cooperative, and appears to be in no acute distress. HEENT: Eyes PERRL, EOMI. Fundi normal, vision is grossly intact. Teeth and gingiva in good general condition. NECK: Neck supple, non-tender without lymphadenopathy, masses or thyromegaly. No JVD or HJR. CARDIAC: Normal S1 and S2. No S3, S4 or murmurs. Rhythm is regular. There is n...</td>\n",
       "    </tr>\n",
       "    <tr>\n",
       "      <th>1</th>\n",
       "      <td>GENERAL APPEARANCE: Alert and cooperative. HEENT: Eyes PERRL, EOMI. Fundi normal, vision is grossly intact. NECK: Neck supple, non-tender without lymphadenopathy, masses or thyromegaly. No JVD or HJR. CARDIAC: Normal S1 and S2. No S3, S4 or murmurs. Rhythm is regular. Extremities are warm and well perfused. No carotid bruits. LUNGS: Clear to auscultation and percussion without rales, rhonchi, ...</td>\n",
       "      <td>0</td>\n",
       "      <td>1</td>\n",
       "      <td>0</td>\n",
       "      <td>0</td>\n",
       "      <td>C0007765 C0037004 C0015392 C0015385 C0019552 C0740422 C0024109 C0018787 C0000726 C0027342 C0021853 C1123023 C0027530 C0022417 C0302142 C0042345 C0018808 C0043144 C0042789 C0332516 C0006318 C0034642 C0034929 C0239110 C0427198 C0221198 C1642390 C0239949 C0497156 C0035508 C0013604 C0425687 C0036658 C0018021 C0231683 C0030987 C0004339</td>\n",
       "      <td>GENERAL APPEARANCE: Alert and cooperative. HEENT: Eyes PERRL, EOMI. Fundi normal, vision is grossly intact. NECK: Neck supple, non-tender without lymphadenopathy, masses or thyromegaly. No JVD or HJR. CARDIAC: Normal S1 and S2. No S3, S4 or murmurs. Rhythm is regular. Extremities are warm and well perfused. No carotid bruits. LUNGS: Clear to auscultation and percussion without rales, rhonchi, ...</td>\n",
       "    </tr>\n",
       "    <tr>\n",
       "      <th>2</th>\n",
       "      <td>GENERAL APPEARANCE: Well developed, and well nourished. HEENT: Eyes PERRL, EOMI. Fundi normal, vision is grossly intact. Teeth and gingiva in good general condition. NECK: Neck supple, non-tender without lymphadenopathy, masses or thyromegaly. No JVD or HJR. CARDIAC: Normal S1 and S2. No S3, S4 or murmurs. Rhythm is regular. There is no peripheral edema, cyanosis or pallor. Extremities are war...</td>\n",
       "      <td>1</td>\n",
       "      <td>0</td>\n",
       "      <td>0</td>\n",
       "      <td>1</td>\n",
       "      <td>C0017562 C0007765 C0015392 C0037004 C0015385 C0019552 C0740422 C0024109 C0040426 C0018787 C0000726 C0027342 C0021853 C1123023 C0027530 C0022417 C0302142 C0042345 C0012634 C0018808 C0043144 C0042789 C0010520 C0332516 C0006318 C0034642 C0034929 C0221198 C0427198 C0030232 C1642390 C0239949 C0497156 C0013604 C0035508 C0425687 C0036658 C0018021 C0231683 C0344211 C0030987 C0004339</td>\n",
       "      <td>GENERAL APPEARANCE: Well developed, and well nourished. HEENT: Eyes PERRL, EOMI. Fundi normal, vision is grossly intact. Teeth and gingiva in good general condition. NECK: Neck supple, non-tender without lymphadenopathy, masses or thyromegaly. No JVD or HJR. CARDIAC: Normal S1 and S2. No S3, S4 or murmurs. Rhythm is regular. There is no peripheral edema, cyanosis or pallor. Extremities are war...</td>\n",
       "    </tr>\n",
       "    <tr>\n",
       "      <th>3</th>\n",
       "      <td>GENERAL APPEARANCE: Well developed, well nourished, alert and cooperative, and appears to be in no acute distress. HEENT: Eyes PERRL, EOMI. Fundi normal, vision is grossly intact. Teeth and gingiva in good general condition. NECK: Neck supple, non-tender without lymphadenopathy, masses or thyromegaly. No JVD or HJR. CARDIAC: Normal S1 and S2. No S3, S4 or murmurs. Rhythm is regular. There is n...</td>\n",
       "      <td>1</td>\n",
       "      <td>1</td>\n",
       "      <td>1</td>\n",
       "      <td>0</td>\n",
       "      <td>C0017562 C0007765 C0037004 C0015392 C0015385 C0019552 C0740422 C0024109 C0040426 C0018787 C0000726 C0027342 C0021853 C0027530 C1123023 C0022417 C0302142 C0042345 C0012634 C0018808 C0043144 C0042789 C0010520 C0332516 C0231303 C0006318 C0034642 C0034929 C0239110 C0015259 C0427198 C0221198 C0030232 C1642390 C0239949 C0497156 C0013604 C0035508 C0425687 C0036658 C0018021 C0231683 C0030987 C0004339</td>\n",
       "      <td>GENERAL APPEARANCE: Well developed, well nourished, alert and cooperative, and appears to be in no acute distress. HEENT: Eyes PERRL, EOMI. Fundi normal, vision is grossly intact. Teeth and gingiva in good general condition. NECK: Neck supple, non-tender without lymphadenopathy, masses or thyromegaly. No JVD or HJR. CARDIAC: Normal S1 and S2. No S3, S4 or murmurs. Rhythm is regular. There is n...</td>\n",
       "    </tr>\n",
       "    <tr>\n",
       "      <th>4</th>\n",
       "      <td>GENERAL APPEARANCE: Alert and cooperative. HEENT: Eyes PERRL, EOMI. Fundi normal, vision is grossly intact. NECK: Neck supple, non-tender without lymphadenopathy, masses or thyromegaly. No JVD or HJR. CARDIAC: Normal S1 and S2. No S3, S4 or murmurs. Rhythm is regular. Extremities are warm and well perfused. No carotid bruits. LUNGS: Clear to auscultation and percussion without rales, rhonchi, ...</td>\n",
       "      <td>0</td>\n",
       "      <td>1</td>\n",
       "      <td>0</td>\n",
       "      <td>0</td>\n",
       "      <td>C0007765 C0037004 C0015392 C0015385 C0019552 C0740422 C0024109 C0018787 C0000726 C0027342 C0016129 C0021853 C0027530 C1123023 C0043262 C0302142 C0042345 C0003864 C0018808 C0043144 C0700124 C0042789 C0311392 C0332516 C0006318 C0034642 C0239110 C0034929 C0221198 C0427198 C1642390 C0239949 C0497156 C0035508 C0013604 C0425687 C0036658 C0018021 C0231683 C0030987 C0004339</td>\n",
       "      <td>GENERAL APPEARANCE: Alert and cooperative. HEENT: Eyes PERRL, EOMI. Fundi normal, vision is grossly intact. NECK: Neck supple, non-tender without lymphadenopathy, masses or thyromegaly. No JVD or HJR. CARDIAC: Normal S1 and S2. No S3, S4 or murmurs. Rhythm is regular. Extremities are warm and well perfused. No carotid bruits. LUNGS: Clear to auscultation and percussion without rales, rhonchi, ...</td>\n",
       "    </tr>\n",
       "  </tbody>\n",
       "</table>\n",
       "</div>"
      ],
      "text/plain": [
       "                                                                                                                                                                                                                                                                                                                                                                                                              text  \\\n",
       "0  GENERAL APPEARANCE: Well developed, well nourished, alert and cooperative, and appears to be in no acute distress. HEENT: Eyes PERRL, EOMI. Fundi normal, vision is grossly intact. Teeth and gingiva in good general condition. NECK: Neck supple, non-tender without lymphadenopathy, masses or thyromegaly. No JVD or HJR. CARDIAC: Normal S1 and S2. No S3, S4 or murmurs. Rhythm is regular. There is n...   \n",
       "1  GENERAL APPEARANCE: Alert and cooperative. HEENT: Eyes PERRL, EOMI. Fundi normal, vision is grossly intact. NECK: Neck supple, non-tender without lymphadenopathy, masses or thyromegaly. No JVD or HJR. CARDIAC: Normal S1 and S2. No S3, S4 or murmurs. Rhythm is regular. Extremities are warm and well perfused. No carotid bruits. LUNGS: Clear to auscultation and percussion without rales, rhonchi, ...   \n",
       "2  GENERAL APPEARANCE: Well developed, and well nourished. HEENT: Eyes PERRL, EOMI. Fundi normal, vision is grossly intact. Teeth and gingiva in good general condition. NECK: Neck supple, non-tender without lymphadenopathy, masses or thyromegaly. No JVD or HJR. CARDIAC: Normal S1 and S2. No S3, S4 or murmurs. Rhythm is regular. There is no peripheral edema, cyanosis or pallor. Extremities are war...   \n",
       "3  GENERAL APPEARANCE: Well developed, well nourished, alert and cooperative, and appears to be in no acute distress. HEENT: Eyes PERRL, EOMI. Fundi normal, vision is grossly intact. Teeth and gingiva in good general condition. NECK: Neck supple, non-tender without lymphadenopathy, masses or thyromegaly. No JVD or HJR. CARDIAC: Normal S1 and S2. No S3, S4 or murmurs. Rhythm is regular. There is n...   \n",
       "4  GENERAL APPEARANCE: Alert and cooperative. HEENT: Eyes PERRL, EOMI. Fundi normal, vision is grossly intact. NECK: Neck supple, non-tender without lymphadenopathy, masses or thyromegaly. No JVD or HJR. CARDIAC: Normal S1 and S2. No S3, S4 or murmurs. Rhythm is regular. Extremities are warm and well perfused. No carotid bruits. LUNGS: Clear to auscultation and percussion without rales, rhonchi, ...   \n",
       "\n",
       "   Nutrition  Cognitive  Exercise  Footwear  \\\n",
       "0          1          1         0         0   \n",
       "1          0          1         0         0   \n",
       "2          1          0         0         1   \n",
       "3          1          1         1         0   \n",
       "4          0          1         0         0   \n",
       "\n",
       "                                                                                                                                                                                                                                                                                                                                                                                                           cui  \\\n",
       "0           C0017562 C0007765 C0037004 C0015392 C0015385 C0019552 C0740422 C0024109 C0040426 C0018787 C0000726 C0027342 C0021853 C0027530 C1123023 C0022417 C0302142 C0042345 C0012634 C0018808 C0043144 C0042789 C0010520 C0332516 C0231303 C0006318 C0034642 C0034929 C0239110 C0427198 C0221198 C0030232 C1642390 C0239949 C0497156 C0013604 C0035508 C0425687 C0036658 C0018021 C0231683 C0030987 C0004339   \n",
       "1                                                                 C0007765 C0037004 C0015392 C0015385 C0019552 C0740422 C0024109 C0018787 C0000726 C0027342 C0021853 C1123023 C0027530 C0022417 C0302142 C0042345 C0018808 C0043144 C0042789 C0332516 C0006318 C0034642 C0034929 C0239110 C0427198 C0221198 C1642390 C0239949 C0497156 C0035508 C0013604 C0425687 C0036658 C0018021 C0231683 C0030987 C0004339   \n",
       "2                    C0017562 C0007765 C0015392 C0037004 C0015385 C0019552 C0740422 C0024109 C0040426 C0018787 C0000726 C0027342 C0021853 C1123023 C0027530 C0022417 C0302142 C0042345 C0012634 C0018808 C0043144 C0042789 C0010520 C0332516 C0006318 C0034642 C0034929 C0221198 C0427198 C0030232 C1642390 C0239949 C0497156 C0013604 C0035508 C0425687 C0036658 C0018021 C0231683 C0344211 C0030987 C0004339   \n",
       "3  C0017562 C0007765 C0037004 C0015392 C0015385 C0019552 C0740422 C0024109 C0040426 C0018787 C0000726 C0027342 C0021853 C0027530 C1123023 C0022417 C0302142 C0042345 C0012634 C0018808 C0043144 C0042789 C0010520 C0332516 C0231303 C0006318 C0034642 C0034929 C0239110 C0015259 C0427198 C0221198 C0030232 C1642390 C0239949 C0497156 C0013604 C0035508 C0425687 C0036658 C0018021 C0231683 C0030987 C0004339   \n",
       "4                             C0007765 C0037004 C0015392 C0015385 C0019552 C0740422 C0024109 C0018787 C0000726 C0027342 C0016129 C0021853 C0027530 C1123023 C0043262 C0302142 C0042345 C0003864 C0018808 C0043144 C0700124 C0042789 C0311392 C0332516 C0006318 C0034642 C0239110 C0034929 C0221198 C0427198 C1642390 C0239949 C0497156 C0035508 C0013604 C0425687 C0036658 C0018021 C0231683 C0030987 C0004339   \n",
       "\n",
       "                                                                                                                                                                                                                                                                                                                                                                                                          text_cui  \n",
       "0  GENERAL APPEARANCE: Well developed, well nourished, alert and cooperative, and appears to be in no acute distress. HEENT: Eyes PERRL, EOMI. Fundi normal, vision is grossly intact. Teeth and gingiva in good general condition. NECK: Neck supple, non-tender without lymphadenopathy, masses or thyromegaly. No JVD or HJR. CARDIAC: Normal S1 and S2. No S3, S4 or murmurs. Rhythm is regular. There is n...  \n",
       "1  GENERAL APPEARANCE: Alert and cooperative. HEENT: Eyes PERRL, EOMI. Fundi normal, vision is grossly intact. NECK: Neck supple, non-tender without lymphadenopathy, masses or thyromegaly. No JVD or HJR. CARDIAC: Normal S1 and S2. No S3, S4 or murmurs. Rhythm is regular. Extremities are warm and well perfused. No carotid bruits. LUNGS: Clear to auscultation and percussion without rales, rhonchi, ...  \n",
       "2  GENERAL APPEARANCE: Well developed, and well nourished. HEENT: Eyes PERRL, EOMI. Fundi normal, vision is grossly intact. Teeth and gingiva in good general condition. NECK: Neck supple, non-tender without lymphadenopathy, masses or thyromegaly. No JVD or HJR. CARDIAC: Normal S1 and S2. No S3, S4 or murmurs. Rhythm is regular. There is no peripheral edema, cyanosis or pallor. Extremities are war...  \n",
       "3  GENERAL APPEARANCE: Well developed, well nourished, alert and cooperative, and appears to be in no acute distress. HEENT: Eyes PERRL, EOMI. Fundi normal, vision is grossly intact. Teeth and gingiva in good general condition. NECK: Neck supple, non-tender without lymphadenopathy, masses or thyromegaly. No JVD or HJR. CARDIAC: Normal S1 and S2. No S3, S4 or murmurs. Rhythm is regular. There is n...  \n",
       "4  GENERAL APPEARANCE: Alert and cooperative. HEENT: Eyes PERRL, EOMI. Fundi normal, vision is grossly intact. NECK: Neck supple, non-tender without lymphadenopathy, masses or thyromegaly. No JVD or HJR. CARDIAC: Normal S1 and S2. No S3, S4 or murmurs. Rhythm is regular. Extremities are warm and well perfused. No carotid bruits. LUNGS: Clear to auscultation and percussion without rales, rhonchi, ...  "
      ]
     },
     "execution_count": 2,
     "metadata": {},
     "output_type": "execute_result"
    }
   ],
   "source": [
    "notes = pd.read_csv('notes_cui.csv')\n",
    "notes.head()"
   ]
  },
  {
   "cell_type": "code",
   "execution_count": 3,
   "metadata": {
    "slideshow": {
     "slide_type": "skip"
    }
   },
   "outputs": [],
   "source": [
    "# prepare input\n",
    "X_txt = notes.text_cui\n",
    "y = notes[notes.columns.drop(['text', 'cui', 'text_cui'])]"
   ]
  },
  {
   "cell_type": "code",
   "execution_count": 4,
   "metadata": {
    "slideshow": {
     "slide_type": "skip"
    }
   },
   "outputs": [],
   "source": [
    "# Helper function to evaluate\n",
    "\n",
    "def printmd(string):\n",
    "    display(Markdown(string))\n",
    "\n",
    "def plot_confusion_matrix(cm, classes, ax,\n",
    "                          normalize=False,\n",
    "                          title='Confusion matrix',\n",
    "                          cmap=plt.cm.Blues):\n",
    "    ax.imshow(cm, interpolation='nearest', cmap=cmap)\n",
    "    ax.set_title(title, loc='left')\n",
    "    tick_marks = np.arange(len(classes))\n",
    "    plt.xticks(tick_marks, classes, rotation=45)\n",
    "    plt.sca(ax)\n",
    "    plt.yticks(tick_marks, classes)\n",
    "    fmt = '.2f' if normalize else 'd'\n",
    "    thresh = cm.max() / 2.\n",
    "    for i, j in itertools.product(range(cm.shape[0]), range(cm.shape[1])):\n",
    "        ax.text(j, i, format(cm[i, j], fmt),\n",
    "                horizontalalignment=\"center\",\n",
    "                color=\"white\" if cm[i, j] > thresh else \"black\")\n",
    "    ax.set_ylabel('True label')\n",
    "    ax.set_xlabel('Predicted label')\n",
    "\n",
    "def evaluate_features(X, y, clf=None, model_prefix='BOW_'):\n",
    "    \n",
    "    if clf is None :\n",
    "        clf = LogisticRegression()\n",
    "        mclf = MultiOutputClassifier(clf)\n",
    "        mclf.fit(X, y)\n",
    "    elif type(clf).__name__ in ['SVC', 'LGBMClassifier', 'GaussianNB']:\n",
    "        mclf = MultiOutputClassifier(clf)\n",
    "        mclf.fit(X, y)\n",
    "    elif type(clf).__name__ in ['KerasClassifier']:\n",
    "        mclf = MultiOutputClassifier(clf)\n",
    "    else:\n",
    "        mclf = clf\n",
    "        mclf.fit(X, y)\n",
    "        \n",
    "    clf_name = type(clf).__name__\n",
    "    #display(Markdown('<strong>{}</strong><br/>'.format(clf_name)))\n",
    "    \n",
    "    if type(clf).__name__ in ['KerasClassifier']:\n",
    "        pass\n",
    "    else:\n",
    "        pickle.dump(mclf, open('pickle/' + model_prefix + clf_name + '.pickle', 'wb'))\n",
    "        \n",
    "    _, ax = plt.subplots(ncols=4, figsize=(25,25))\n",
    "    for j, i in enumerate(y):\n",
    "        probas = cross_val_predict(clf, X, y[i], method='predict_proba')\n",
    "        pred_indices = np.argmax(probas, axis=1)\n",
    "        classes = np.unique(y[i])\n",
    "        preds = classes[pred_indices]\n",
    "        title = u'Prediction using ' + clf_name + \\\n",
    "            u'\\nfor ' + i + ':'+ \\\n",
    "            u'\\n\\u2022 Log loss: {0:.2f}'.format(log_loss(y[i], probas)) + \\\n",
    "            u'\\n\\u2022 AUC: {0:.2f}'.format(roc_auc_score(y[i], probas[:, 1])) + \\\n",
    "            u'\\n\\u2022 Accuracy: {0:.2f}'.format(accuracy_score(y[i], preds)) + \\\n",
    "            u'\\n\\nConfusion Matrix:'\n",
    "        cm = confusion_matrix(y[i], preds)\n",
    "        plot_confusion_matrix(cm, classes, title=title, ax=ax[j])"
   ]
  },
  {
   "cell_type": "code",
   "execution_count": 5,
   "metadata": {
    "deletable": false,
    "editable": false,
    "slideshow": {
     "slide_type": "slide"
    }
   },
   "outputs": [],
   "source": [
    "# Helper function to evaluate\n",
    "def evaluate_features(X, y, clf=None, model_prefix='BOW_'):\n",
    "    \n",
    "    if clf is None :\n",
    "        clf = LogisticRegression()\n",
    "        mclf = MultiOutputClassifier(clf)\n",
    "        mclf.fit(X, y)\n",
    "    elif type(clf).__name__ in ['SVC', 'LGBMClassifier', 'GaussianNB']:\n",
    "        mclf = MultiOutputClassifier(clf)\n",
    "        mclf.fit(X, y)\n",
    "    elif type(clf).__name__ in ['KerasClassifier']:\n",
    "        mclf = MultiOutputClassifier(clf)\n",
    "    else:\n",
    "        mclf = clf\n",
    "        mclf.fit(X, y)\n",
    "        \n",
    "    clf_name = type(clf).__name__\n",
    "    #display(Markdown('<strong>{}</strong><br/>'.format(clf_name)))\n",
    "    \n",
    "    if type(clf).__name__ in ['KerasClassifier']:\n",
    "        pass\n",
    "    else:\n",
    "        pickle.dump(mclf, open('pickle/' + model_prefix + clf_name + '.pickle', 'wb'))\n",
    "        \n",
    "    _, ax = plt.subplots(ncols=4, figsize=(25,25))\n",
    "    for j, i in enumerate(y):\n",
    "        probas = cross_val_predict(clf, X, y[i], method='predict_proba')\n",
    "        pred_indices = np.argmax(probas, axis=1)\n",
    "        classes = np.unique(y[i])\n",
    "        preds = classes[pred_indices]\n",
    "        title = u'Prediction using ' + clf_name + \\\n",
    "            u'\\nfor ' + i + ':'+ \\\n",
    "            u'\\n\\u2022 Log loss: {0:.2f}'.format(log_loss(y[i], probas)) + \\\n",
    "            u'\\n\\u2022 AUC: {0:.2f}'.format(roc_auc_score(y[i], probas[:, 1])) + \\\n",
    "            u'\\n\\u2022 Accuracy: {0:.2f}'.format(accuracy_score(y[i], preds)) + \\\n",
    "            u'\\n\\nConfusion Matrix:'\n",
    "        cm = confusion_matrix(y[i], preds)\n",
    "        plot_confusion_matrix(cm, classes, title=title, ax=ax[j])"
   ]
  },
  {
   "cell_type": "code",
   "execution_count": 6,
   "metadata": {
    "slideshow": {
     "slide_type": "skip"
    }
   },
   "outputs": [],
   "source": [
    "# preprocessing \n",
    "max_features = 60000\n",
    "maxlen = 1000\n",
    "embed_size = 300\n",
    "tokenizer = Tokenizer(num_words=max_features)\n",
    "tokenizer.fit_on_texts(X_txt)\n",
    "X_seq = tokenizer.texts_to_sequences(X_txt) \n",
    "X_seq = pad_sequences(X_seq, maxlen=maxlen)\n",
    "word_index = tokenizer.word_index\n",
    "nb_words = min(max_features, len(word_index))\n",
    "# save tokenizer\n",
    "with open('pickle/W2V_tokenizer.pickle', 'wb') as handle:\n",
    "    pickle.dump(tokenizer, handle, protocol=pickle.HIGHEST_PROTOCOL)"
   ]
  },
  {
   "cell_type": "code",
   "execution_count": 7,
   "metadata": {
    "slideshow": {
     "slide_type": "skip"
    }
   },
   "outputs": [],
   "source": [
    "# helper functions\n",
    "def get_coefs(word, *arr): return word, np.asarray(arr, dtype='float32')\n",
    "\n",
    "def get_embedding_matrix(embeddings_index, word_index, max_features, embed_size):\n",
    "    nb_words = min(max_features, len(word_index))\n",
    "    embedding_matrix = np.zeros((nb_words, embed_size))\n",
    "    for word, i in word_index.items():\n",
    "        if i >= max_features: \n",
    "            continue\n",
    "        embedding_vector = embeddings_index.get(word)\n",
    "        if embedding_vector is not None: \n",
    "            embedding_matrix[i-1] = embedding_vector\n",
    "    return embedding_matrix\n",
    "\n",
    "# model function\n",
    "def get_model(embedding_matrix, nb_words, model_type='GRU'):\n",
    "    inp = Input(shape=(maxlen, ))\n",
    "    x = Embedding(nb_words, embed_size, weights=[embedding_matrix])(inp)\n",
    "    x = SpatialDropout1D(0.4)(x)\n",
    "    if model_type=='CuDNNGRU':\n",
    "        x = Bidirectional(CuDNNGRU(80, return_sequences=True))(x)\n",
    "    elif model_type=='GRU':\n",
    "        x = Bidirectional(GRU(80, return_sequences=True))(x)\n",
    "    elif model_type=='CuDNNLSTM':\n",
    "        x = Bidirectional(CuDNNLSTM(80, return_sequences=True))(x)\n",
    "    elif model_type=='LTSM':\n",
    "        x = Bidirectional(LSTM(80, return_sequences=True))(x)\n",
    "    else:\n",
    "        raise ValueError('Please specify model_type as one of the following:n\\CuDNNGRU, CuDNNLSTM, GRU, LSTM')\n",
    "    avg_pool = GlobalAveragePooling1D()(x)\n",
    "    max_pool = GlobalMaxPooling1D()(x)\n",
    "    conc = concatenate([avg_pool, max_pool])\n",
    "    outp = Dense(1, activation=\"sigmoid\")(conc)\n",
    "    \n",
    "    model = Model(inputs=inp, outputs=outp)\n",
    "    model.compile(loss='binary_crossentropy',\n",
    "                  optimizer='adam',\n",
    "                  metrics=['accuracy'])\n",
    "\n",
    "    return model"
   ]
  },
  {
   "cell_type": "code",
   "execution_count": 8,
   "metadata": {
    "slideshow": {
     "slide_type": "slide"
    }
   },
   "outputs": [],
   "source": [
    "#prepare embedding matrix\n",
    "EMBEDDING_FILE = '../toxic/data/crawl-300d-2M.vec' #word2vec\n",
    "pretrained_embeddings_index = dict(get_coefs(*o.rstrip().rsplit(' ')) for o in open(EMBEDDING_FILE, encoding=\"utf-8\"))\n",
    "pretrained_embedding_matrix = get_embedding_matrix(embeddings_index=pretrained_embeddings_index, word_index=word_index, max_features=max_features, embed_size=embed_size)"
   ]
  },
  {
   "cell_type": "code",
   "execution_count": 9,
   "metadata": {},
   "outputs": [],
   "source": [
    "def get_model_new():\n",
    "    inp = Input(shape=(maxlen, ))\n",
    "    x = Embedding(nb_words, embed_size, weights=[pretrained_embedding_matrix])(inp)\n",
    "    x = SpatialDropout1D(0.4)(x)\n",
    "    x = Bidirectional(LSTM(80, return_sequences=True))(x)\n",
    "    avg_pool = GlobalAveragePooling1D()(x)\n",
    "    max_pool = GlobalMaxPooling1D()(x)\n",
    "    conc = concatenate([avg_pool, max_pool])\n",
    "    outp = Dense(1, activation=\"sigmoid\")(conc)\n",
    "    \n",
    "    model = Model(inputs=inp, outputs=outp)\n",
    "    model.compile(loss='binary_crossentropy',\n",
    "                  optimizer='adam',\n",
    "                  metrics=['accuracy'])\n",
    "\n",
    "    return model"
   ]
  },
  {
   "cell_type": "code",
   "execution_count": 10,
   "metadata": {
    "scrolled": false,
    "slideshow": {
     "slide_type": "slide"
    }
   },
   "outputs": [
    {
     "data": {
      "image/png": "[encoded data removed]",
      "text/plain": [
       "<Figure size 1800x1800 with 4 Axes>"
      ]
     },
     "metadata": {},
     "output_type": "display_data"
    }
   ],
   "source": [
    "warnings.filterwarnings('ignore', category=DeprecationWarning)\n",
    "k_clf = KerasClassifier(build_fn=get_model_new, batch_size=32, epochs=2, verbose=0)\n",
    "evaluate_features(X_seq, y, k_clf)"
   ]
  },
  {
   "cell_type": "markdown",
   "metadata": {
    "slideshow": {
     "slide_type": "slide"
    }
   },
   "source": [
    "# Using Own Embedding"
   ]
  },
  {
   "cell_type": "code",
   "execution_count": 22,
   "metadata": {
    "slideshow": {
     "slide_type": "slide"
    }
   },
   "outputs": [],
   "source": [
    "# word2vec\n",
    "document = X_txt.apply(lambda x: simple_preprocess(x))\n",
    "w2v_model = Word2Vec(document, iter=10, min_count=10, size=embed_size, workers=4)"
   ]
  },
  {
   "cell_type": "code",
   "execution_count": 23,
   "metadata": {
    "slideshow": {
     "slide_type": "slide"
    }
   },
   "outputs": [],
   "source": [
    "# prepare embedding matrix\n",
    "own_embeddings_index = dict(zip(w2v_model.wv.index2word, w2v_model.wv.vectors))\n",
    "own_embedding_matrix = get_embedding_matrix(embeddings_index=own_embeddings_index, word_index=word_index, max_features=max_features, embed_size=embed_size)"
   ]
  },
  {
   "cell_type": "code",
   "execution_count": 24,
   "metadata": {},
   "outputs": [
    {
     "data": {
      "text/plain": [
       "array([ 0.06367829,  0.00931545,  0.09101325,  0.00691585, -0.06926794,\n",
       "        0.14740415,  0.04345161,  0.07315542, -0.00205336, -0.05758995,\n",
       "        0.03213312, -0.00736352, -0.01313657,  0.05099512, -0.0144088 ,\n",
       "        0.02315473,  0.0447634 , -0.01557951, -0.01594647, -0.01284147,\n",
       "       -0.01358295, -0.03895983, -0.00036152,  0.0454744 , -0.02780083,\n",
       "        0.00688449,  0.02502027, -0.04013848, -0.03160403, -0.03823483,\n",
       "        0.04645794,  0.13915013,  0.16177735, -0.14268732,  0.07078513,\n",
       "       -0.16229111, -0.00991929,  0.03545905,  0.06560833,  0.01296237,\n",
       "        0.03186741,  0.03922428, -0.00789557, -0.03010438, -0.0026707 ,\n",
       "       -0.02829458,  0.06426924, -0.01782642,  0.07618477,  0.10648938,\n",
       "        0.02893854,  0.07803998,  0.0211139 , -0.01805685, -0.00108268,\n",
       "       -0.04367384, -0.01036508,  0.08031824, -0.02423587,  0.05652766,\n",
       "        0.06246735, -0.06422344,  0.18890005, -0.05512656,  0.04104038,\n",
       "        0.01062779,  0.0667776 ,  0.2520007 , -0.00081962, -0.01825321,\n",
       "        0.08399315,  0.01536755, -0.02963035, -0.03941398, -0.0389537 ,\n",
       "        0.04767147, -0.00130886,  0.01769881, -0.07207089,  0.08124115,\n",
       "       -0.04859708, -0.11071935,  0.0581823 , -0.01625093,  0.05374329,\n",
       "       -0.05738332,  0.04019789, -0.04533143, -0.03206462, -0.16617054,\n",
       "        0.1822848 ,  0.04027772,  0.08110829,  0.17931877, -0.05811903,\n",
       "       -0.01635221, -0.01015225, -0.12156855, -0.16622013, -0.04713286,\n",
       "        0.11618654,  0.00944851, -0.04041784,  0.05989588,  0.10177107,\n",
       "       -0.0969291 , -0.00601706, -0.02539797,  0.01473   , -0.09143709,\n",
       "       -0.03326754, -0.0372392 , -0.07866926,  0.03954423, -0.1418325 ,\n",
       "        0.08920199,  0.06511663, -0.02550438,  0.06501649,  0.03471162,\n",
       "        0.03408462,  0.04309124, -0.02726869,  0.12795588, -0.12511499,\n",
       "       -0.06899022,  0.08825713, -0.06377053,  0.00070517, -0.00062617,\n",
       "        0.09291601, -0.04540797, -0.13703172,  0.09486466, -0.03993306,\n",
       "        0.00268813,  0.15491244,  0.0262062 ,  0.05763241, -0.08228078,\n",
       "        0.01245508, -0.02502788, -0.08274876, -0.01445001,  0.01948391,\n",
       "        0.13665077, -0.01485072, -0.07961921, -0.02501431,  0.07995712,\n",
       "       -0.00337733,  0.0675151 ,  0.09022478, -0.05381043, -0.0052427 ,\n",
       "        0.0404816 , -0.1064499 ,  0.12973854,  0.02857284,  0.10592677,\n",
       "        0.06256281,  0.07924141,  0.07126598,  0.00539675, -0.0432042 ,\n",
       "       -0.06118479, -0.03989043, -0.0861428 , -0.15561877, -0.08020844,\n",
       "       -0.06485391, -0.11421341, -0.0569425 , -0.03295368, -0.03397673,\n",
       "       -0.0045159 , -0.10556338,  0.03862983,  0.03683164, -0.00890856,\n",
       "       -0.02928657,  0.05407897,  0.0011793 ,  0.0481099 , -0.07419273,\n",
       "        0.06565058, -0.00082638,  0.13245274, -0.06904832,  0.09165014,\n",
       "        0.07664027, -0.04588808, -0.00071614, -0.17760459, -0.01532328,\n",
       "       -0.06037582, -0.104125  ,  0.08817033,  0.06121098, -0.110286  ,\n",
       "       -0.03274537,  0.05307815,  0.057261  ,  0.07110888, -0.12640464,\n",
       "       -0.11483213,  0.01829701, -0.0309921 , -0.1179298 , -0.05365454,\n",
       "        0.1976303 , -0.01879397,  0.10836294,  0.05519799, -0.06437132,\n",
       "        0.02034346,  0.18662116,  0.03074893, -0.11960757, -0.01110554,\n",
       "       -0.11010695,  0.05342086, -0.07332414,  0.05559545, -0.10259777,\n",
       "       -0.0870584 ,  0.0028116 , -0.11510539, -0.05291925,  0.03098061,\n",
       "        0.0088747 , -0.06248465,  0.00152182,  0.06312772,  0.0641858 ,\n",
       "        0.04509773, -0.02939066,  0.00745354, -0.06430521, -0.00585082,\n",
       "       -0.04631682,  0.01638071,  0.01979988,  0.04592115, -0.12285176,\n",
       "        0.01943209,  0.05216515, -0.026181  , -0.053317  ,  0.16315001,\n",
       "       -0.0159837 , -0.0596353 , -0.00756385,  0.06553038, -0.05699134,\n",
       "        0.04710583,  0.16041917, -0.01391499, -0.03014324,  0.0136023 ,\n",
       "        0.10410389, -0.12116443, -0.15176728, -0.05548011, -0.06106672,\n",
       "        0.10954318,  0.03522248,  0.00676438, -0.06683902, -0.09003828,\n",
       "       -0.00377452,  0.01144136,  0.11121821,  0.02958075, -0.18937585,\n",
       "       -0.01860441, -0.00971172, -0.19796607, -0.10258658,  0.02837273,\n",
       "        0.02896764, -0.03283077, -0.03410585, -0.00659837, -0.03548076,\n",
       "        0.01263879, -0.04734713, -0.05279243,  0.07658719,  0.10781276,\n",
       "       -0.04158691,  0.0363334 ,  0.05501331, -0.01678194,  0.03111737,\n",
       "       -0.00586857,  0.03385637,  0.07237567,  0.0067983 , -0.07151946],\n",
       "      dtype=float32)"
      ]
     },
     "execution_count": 24,
     "metadata": {},
     "output_type": "execute_result"
    }
   ],
   "source": [
    "own_embeddings_index['diabetes']"
   ]
  },
  {
   "cell_type": "code",
   "execution_count": 25,
   "metadata": {
    "slideshow": {
     "slide_type": "slide"
    }
   },
   "outputs": [
    {
     "ename": "RuntimeError",
     "evalue": "Cannot clone object <keras.wrappers.scikit_learn.KerasClassifier object at 0x7f7560730978>, as the constructor either does not set or modifies parameter embedding_matrix",
     "output_type": "error",
     "traceback": [
      "\u001b[0;31m\u001b[0m",
      "\u001b[0;31mRuntimeError\u001b[0mTraceback (most recent call last)",
      "\u001b[0;32m<ipython-input-25-b093a7bc1198>\u001b[0m in \u001b[0;36m<module>\u001b[0;34m()\u001b[0m\n\u001b[1;32m      1\u001b[0m \u001b[0mwarnings\u001b[0m\u001b[0;34m.\u001b[0m\u001b[0mfilterwarnings\u001b[0m\u001b[0;34m(\u001b[0m\u001b[0;34m'ignore'\u001b[0m\u001b[0;34m,\u001b[0m \u001b[0mcategory\u001b[0m\u001b[0;34m=\u001b[0m\u001b[0mDeprecationWarning\u001b[0m\u001b[0;34m)\u001b[0m\u001b[0;34m\u001b[0m\u001b[0m\n\u001b[1;32m      2\u001b[0m \u001b[0mk_clf\u001b[0m \u001b[0;34m=\u001b[0m \u001b[0mKerasClassifier\u001b[0m\u001b[0;34m(\u001b[0m\u001b[0mbuild_fn\u001b[0m\u001b[0;34m=\u001b[0m\u001b[0mget_model\u001b[0m\u001b[0;34m,\u001b[0m \u001b[0mbatch_size\u001b[0m\u001b[0;34m=\u001b[0m\u001b[0;36m32\u001b[0m\u001b[0;34m,\u001b[0m \u001b[0mepochs\u001b[0m\u001b[0;34m=\u001b[0m\u001b[0;36m2\u001b[0m\u001b[0;34m,\u001b[0m \u001b[0mmodel_type\u001b[0m\u001b[0;34m=\u001b[0m\u001b[0;34m'GRU'\u001b[0m\u001b[0;34m,\u001b[0m \u001b[0mverbose\u001b[0m\u001b[0;34m=\u001b[0m\u001b[0;36m0\u001b[0m\u001b[0;34m,\u001b[0m \u001b[0membedding_matrix\u001b[0m\u001b[0;34m=\u001b[0m\u001b[0mown_embedding_matrix\u001b[0m\u001b[0;34m,\u001b[0m \u001b[0mnb_words\u001b[0m\u001b[0;34m=\u001b[0m\u001b[0mnb_words\u001b[0m\u001b[0;34m)\u001b[0m\u001b[0;34m\u001b[0m\u001b[0m\n\u001b[0;32m----> 3\u001b[0;31m \u001b[0mevaluate_features\u001b[0m\u001b[0;34m(\u001b[0m\u001b[0mX_seq\u001b[0m\u001b[0;34m,\u001b[0m \u001b[0my\u001b[0m\u001b[0;34m,\u001b[0m \u001b[0mk_clf\u001b[0m\u001b[0;34m)\u001b[0m\u001b[0;34m\u001b[0m\u001b[0m\n\u001b[0m",
      "\u001b[0;32m<ipython-input-9-cb5cfb791d27>\u001b[0m in \u001b[0;36mevaluate_features\u001b[0;34m(X, y, clf, model_prefix)\u001b[0m\n\u001b[1;32m     25\u001b[0m     \u001b[0m_\u001b[0m\u001b[0;34m,\u001b[0m \u001b[0max\u001b[0m \u001b[0;34m=\u001b[0m \u001b[0mplt\u001b[0m\u001b[0;34m.\u001b[0m\u001b[0msubplots\u001b[0m\u001b[0;34m(\u001b[0m\u001b[0mncols\u001b[0m\u001b[0;34m=\u001b[0m\u001b[0;36m4\u001b[0m\u001b[0;34m,\u001b[0m \u001b[0mfigsize\u001b[0m\u001b[0;34m=\u001b[0m\u001b[0;34m(\u001b[0m\u001b[0;36m25\u001b[0m\u001b[0;34m,\u001b[0m\u001b[0;36m25\u001b[0m\u001b[0;34m)\u001b[0m\u001b[0;34m)\u001b[0m\u001b[0;34m\u001b[0m\u001b[0m\n\u001b[1;32m     26\u001b[0m     \u001b[0;32mfor\u001b[0m \u001b[0mj\u001b[0m\u001b[0;34m,\u001b[0m \u001b[0mi\u001b[0m \u001b[0;32min\u001b[0m \u001b[0menumerate\u001b[0m\u001b[0;34m(\u001b[0m\u001b[0my\u001b[0m\u001b[0;34m)\u001b[0m\u001b[0;34m:\u001b[0m\u001b[0;34m\u001b[0m\u001b[0m\n\u001b[0;32m---> 27\u001b[0;31m         \u001b[0mprobas\u001b[0m \u001b[0;34m=\u001b[0m \u001b[0mcross_val_predict\u001b[0m\u001b[0;34m(\u001b[0m\u001b[0mclf\u001b[0m\u001b[0;34m,\u001b[0m \u001b[0mX\u001b[0m\u001b[0;34m,\u001b[0m \u001b[0my\u001b[0m\u001b[0;34m[\u001b[0m\u001b[0mi\u001b[0m\u001b[0;34m]\u001b[0m\u001b[0;34m,\u001b[0m \u001b[0mmethod\u001b[0m\u001b[0;34m=\u001b[0m\u001b[0;34m'predict_proba'\u001b[0m\u001b[0;34m)\u001b[0m\u001b[0;34m\u001b[0m\u001b[0m\n\u001b[0m\u001b[1;32m     28\u001b[0m         \u001b[0mpred_indices\u001b[0m \u001b[0;34m=\u001b[0m \u001b[0mnp\u001b[0m\u001b[0;34m.\u001b[0m\u001b[0margmax\u001b[0m\u001b[0;34m(\u001b[0m\u001b[0mprobas\u001b[0m\u001b[0;34m,\u001b[0m \u001b[0maxis\u001b[0m\u001b[0;34m=\u001b[0m\u001b[0;36m1\u001b[0m\u001b[0;34m)\u001b[0m\u001b[0;34m\u001b[0m\u001b[0m\n\u001b[1;32m     29\u001b[0m         \u001b[0mclasses\u001b[0m \u001b[0;34m=\u001b[0m \u001b[0mnp\u001b[0m\u001b[0;34m.\u001b[0m\u001b[0munique\u001b[0m\u001b[0;34m(\u001b[0m\u001b[0my\u001b[0m\u001b[0;34m[\u001b[0m\u001b[0mi\u001b[0m\u001b[0;34m]\u001b[0m\u001b[0;34m)\u001b[0m\u001b[0;34m\u001b[0m\u001b[0m\n",
      "\u001b[0;32m/usr/local/lib/python3.6/dist-packages/sklearn/model_selection/_validation.py\u001b[0m in \u001b[0;36mcross_val_predict\u001b[0;34m(estimator, X, y, groups, cv, n_jobs, verbose, fit_params, pre_dispatch, method)\u001b[0m\n\u001b[1;32m    775\u001b[0m     prediction_blocks = parallel(delayed(_fit_and_predict)(\n\u001b[1;32m    776\u001b[0m         clone(estimator), X, y, train, test, verbose, fit_params, method)\n\u001b[0;32m--> 777\u001b[0;31m         for train, test in cv.split(X, y, groups))\n\u001b[0m\u001b[1;32m    778\u001b[0m \u001b[0;34m\u001b[0m\u001b[0m\n\u001b[1;32m    779\u001b[0m     \u001b[0;31m# Concatenate the predictions\u001b[0m\u001b[0;34m\u001b[0m\u001b[0;34m\u001b[0m\u001b[0m\n",
      "\u001b[0;32m/usr/local/lib/python3.6/dist-packages/sklearn/externals/joblib/parallel.py\u001b[0m in \u001b[0;36m__call__\u001b[0;34m(self, iterable)\u001b[0m\n\u001b[1;32m    915\u001b[0m             \u001b[0;31m# remaining jobs.\u001b[0m\u001b[0;34m\u001b[0m\u001b[0;34m\u001b[0m\u001b[0m\n\u001b[1;32m    916\u001b[0m             \u001b[0mself\u001b[0m\u001b[0;34m.\u001b[0m\u001b[0m_iterating\u001b[0m \u001b[0;34m=\u001b[0m \u001b[0;32mFalse\u001b[0m\u001b[0;34m\u001b[0m\u001b[0m\n\u001b[0;32m--> 917\u001b[0;31m             \u001b[0;32mif\u001b[0m \u001b[0mself\u001b[0m\u001b[0;34m.\u001b[0m\u001b[0mdispatch_one_batch\u001b[0m\u001b[0;34m(\u001b[0m\u001b[0miterator\u001b[0m\u001b[0;34m)\u001b[0m\u001b[0;34m:\u001b[0m\u001b[0;34m\u001b[0m\u001b[0m\n\u001b[0m\u001b[1;32m    918\u001b[0m                 \u001b[0mself\u001b[0m\u001b[0;34m.\u001b[0m\u001b[0m_iterating\u001b[0m \u001b[0;34m=\u001b[0m \u001b[0mself\u001b[0m\u001b[0;34m.\u001b[0m\u001b[0m_original_iterator\u001b[0m \u001b[0;32mis\u001b[0m \u001b[0;32mnot\u001b[0m \u001b[0;32mNone\u001b[0m\u001b[0;34m\u001b[0m\u001b[0m\n\u001b[1;32m    919\u001b[0m \u001b[0;34m\u001b[0m\u001b[0m\n",
      "\u001b[0;32m/usr/local/lib/python3.6/dist-packages/sklearn/externals/joblib/parallel.py\u001b[0m in \u001b[0;36mdispatch_one_batch\u001b[0;34m(self, iterator)\u001b[0m\n\u001b[1;32m    752\u001b[0m             tasks = BatchedCalls(itertools.islice(iterator, batch_size),\n\u001b[1;32m    753\u001b[0m                                  \u001b[0mself\u001b[0m\u001b[0;34m.\u001b[0m\u001b[0m_backend\u001b[0m\u001b[0;34m.\u001b[0m\u001b[0mget_nested_backend\u001b[0m\u001b[0;34m(\u001b[0m\u001b[0;34m)\u001b[0m\u001b[0;34m,\u001b[0m\u001b[0;34m\u001b[0m\u001b[0m\n\u001b[0;32m--> 754\u001b[0;31m                                  self._pickle_cache)\n\u001b[0m\u001b[1;32m    755\u001b[0m             \u001b[0;32mif\u001b[0m \u001b[0mlen\u001b[0m\u001b[0;34m(\u001b[0m\u001b[0mtasks\u001b[0m\u001b[0;34m)\u001b[0m \u001b[0;34m==\u001b[0m \u001b[0;36m0\u001b[0m\u001b[0;34m:\u001b[0m\u001b[0;34m\u001b[0m\u001b[0m\n\u001b[1;32m    756\u001b[0m                 \u001b[0;31m# No more tasks available in the iterator: tell caller to stop.\u001b[0m\u001b[0;34m\u001b[0m\u001b[0;34m\u001b[0m\u001b[0m\n",
      "\u001b[0;32m/usr/local/lib/python3.6/dist-packages/sklearn/externals/joblib/parallel.py\u001b[0m in \u001b[0;36m__init__\u001b[0;34m(self, iterator_slice, backend_and_jobs, pickle_cache)\u001b[0m\n\u001b[1;32m    208\u001b[0m \u001b[0;34m\u001b[0m\u001b[0m\n\u001b[1;32m    209\u001b[0m     \u001b[0;32mdef\u001b[0m \u001b[0m__init__\u001b[0m\u001b[0;34m(\u001b[0m\u001b[0mself\u001b[0m\u001b[0;34m,\u001b[0m \u001b[0miterator_slice\u001b[0m\u001b[0;34m,\u001b[0m \u001b[0mbackend_and_jobs\u001b[0m\u001b[0;34m,\u001b[0m \u001b[0mpickle_cache\u001b[0m\u001b[0;34m=\u001b[0m\u001b[0;32mNone\u001b[0m\u001b[0;34m)\u001b[0m\u001b[0;34m:\u001b[0m\u001b[0;34m\u001b[0m\u001b[0m\n\u001b[0;32m--> 210\u001b[0;31m         \u001b[0mself\u001b[0m\u001b[0;34m.\u001b[0m\u001b[0mitems\u001b[0m \u001b[0;34m=\u001b[0m \u001b[0mlist\u001b[0m\u001b[0;34m(\u001b[0m\u001b[0miterator_slice\u001b[0m\u001b[0;34m)\u001b[0m\u001b[0;34m\u001b[0m\u001b[0m\n\u001b[0m\u001b[1;32m    211\u001b[0m         \u001b[0mself\u001b[0m\u001b[0;34m.\u001b[0m\u001b[0m_size\u001b[0m \u001b[0;34m=\u001b[0m \u001b[0mlen\u001b[0m\u001b[0;34m(\u001b[0m\u001b[0mself\u001b[0m\u001b[0;34m.\u001b[0m\u001b[0mitems\u001b[0m\u001b[0;34m)\u001b[0m\u001b[0;34m\u001b[0m\u001b[0m\n\u001b[1;32m    212\u001b[0m         \u001b[0;32mif\u001b[0m \u001b[0misinstance\u001b[0m\u001b[0;34m(\u001b[0m\u001b[0mbackend_and_jobs\u001b[0m\u001b[0;34m,\u001b[0m \u001b[0mtuple\u001b[0m\u001b[0;34m)\u001b[0m\u001b[0;34m:\u001b[0m\u001b[0;34m\u001b[0m\u001b[0m\n",
      "\u001b[0;32m/usr/local/lib/python3.6/dist-packages/sklearn/model_selection/_validation.py\u001b[0m in \u001b[0;36m<genexpr>\u001b[0;34m(.0)\u001b[0m\n\u001b[1;32m    775\u001b[0m     prediction_blocks = parallel(delayed(_fit_and_predict)(\n\u001b[1;32m    776\u001b[0m         clone(estimator), X, y, train, test, verbose, fit_params, method)\n\u001b[0;32m--> 777\u001b[0;31m         for train, test in cv.split(X, y, groups))\n\u001b[0m\u001b[1;32m    778\u001b[0m \u001b[0;34m\u001b[0m\u001b[0m\n\u001b[1;32m    779\u001b[0m     \u001b[0;31m# Concatenate the predictions\u001b[0m\u001b[0;34m\u001b[0m\u001b[0;34m\u001b[0m\u001b[0m\n",
      "\u001b[0;32m/usr/local/lib/python3.6/dist-packages/sklearn/base.py\u001b[0m in \u001b[0;36mclone\u001b[0;34m(estimator, safe)\u001b[0m\n\u001b[1;32m     71\u001b[0m             raise RuntimeError('Cannot clone object %s, as the constructor '\n\u001b[1;32m     72\u001b[0m                                \u001b[0;34m'either does not set or modifies parameter %s'\u001b[0m \u001b[0;34m%\u001b[0m\u001b[0;34m\u001b[0m\u001b[0m\n\u001b[0;32m---> 73\u001b[0;31m                                (estimator, name))\n\u001b[0m\u001b[1;32m     74\u001b[0m     \u001b[0;32mreturn\u001b[0m \u001b[0mnew_object\u001b[0m\u001b[0;34m\u001b[0m\u001b[0m\n\u001b[1;32m     75\u001b[0m \u001b[0;34m\u001b[0m\u001b[0m\n",
      "\u001b[0;31mRuntimeError\u001b[0m: Cannot clone object <keras.wrappers.scikit_learn.KerasClassifier object at 0x7f7560730978>, as the constructor either does not set or modifies parameter embedding_matrix"
     ]
    },
    {
     "data": {
      "image/png": "[encoded data removed]",
      "text/plain": [
       "<Figure size 1800x1800 with 4 Axes>"
      ]
     },
     "metadata": {},
     "output_type": "display_data"
    }
   ],
   "source": [
    "warnings.filterwarnings('ignore', category=DeprecationWarning)\n",
    "k_clf = KerasClassifier(build_fn=get_model, batch_size=32, epochs=2, model_type='GRU', verbose=0, embedding_matrix=own_embedding_matrix, nb_words=nb_words)\n",
    "evaluate_features(X_seq, y, k_clf)"
   ]
  },
  {
   "cell_type": "code",
   "execution_count": null,
   "metadata": {},
   "outputs": [],
   "source": []
  },
  {
   "cell_type": "code",
   "execution_count": null,
   "metadata": {},
   "outputs": [],
   "source": []
  },
  {
   "cell_type": "code",
   "execution_count": null,
   "metadata": {},
   "outputs": [],
   "source": []
  },
  {
   "cell_type": "code",
   "execution_count": null,
   "metadata": {},
   "outputs": [],
   "source": []
  },
  {
   "cell_type": "code",
   "execution_count": null,
   "metadata": {},
   "outputs": [],
   "source": []
  },
  {
   "cell_type": "code",
   "execution_count": null,
   "metadata": {},
   "outputs": [],
   "source": []
  },
  {
   "cell_type": "code",
   "execution_count": null,
   "metadata": {},
   "outputs": [],
   "source": []
  },
  {
   "cell_type": "code",
   "execution_count": null,
   "metadata": {},
   "outputs": [],
   "source": []
  },
  {
   "cell_type": "code",
   "execution_count": null,
   "metadata": {},
   "outputs": [],
   "source": []
  },
  {
   "cell_type": "code",
   "execution_count": 29,
   "metadata": {},
   "outputs": [],
   "source": [
    "# features extraction\n",
    "max_features = 60000\n",
    "maxlen = 100\n",
    "embed_size = 300\n",
    "tokenizer = Tokenizer(num_words=max_features)\n",
    "tokenizer.fit_on_texts(X_txt)\n",
    "X_train_txt, X_test_txt, y_train, y_test = train_test_split(X_txt, y)\n",
    "X_train_seq = tokenizer.texts_to_sequences(X_train_txt) \n",
    "X_test_seq = tokenizer.texts_to_sequences(X_test_txt) "
   ]
  },
  {
   "cell_type": "code",
   "execution_count": 30,
   "metadata": {
    "scrolled": true
   },
   "outputs": [
    {
     "data": {
      "text/plain": [
       "'GENERAL APPEARANCE: Alert and cooperative. HEENT: Eyes PERRL, EOMI. Fundi normal, vision is grossly intact. NECK: Neck supple, non-tender without lymphadenopathy, masses or thyromegaly. No JVD or HJR. CARDIAC: Normal S1 and S2. No S3, S4 or murmurs. Rhythm is regular. Extremities are warm and well perfused. No carotid bruits. LUNGS: Clear to auscultation and percussion without rales, rhonchi, wheezing or diminished breath sounds. Good excursions. ABDOMEN: Negative bowel sounds. Hard, distended, tender. No guarding or rebound. No masses. EXTREMITIES: Some deformity in finger and wrists, showing signs of arthritis. No edema. Peripheral pulses intact. No varicosities. Strength at shoulder/elbow/wrist/hand 5/5 bilaterally. Strength at hips/knees/ankles 5/5 bilaterally. NEUROLOGICAL: CN II-XII intact. Strength and sensation symmetric and intact throughout. Reflexes 2+ throughout. Cerebellar testing normal. SKIN: Skin and nails normal, with no lesions. '"
      ]
     },
     "execution_count": 30,
     "metadata": {},
     "output_type": "execute_result"
    }
   ],
   "source": [
    "X_train_txt[4]"
   ]
  },
  {
   "cell_type": "code",
   "execution_count": 31,
   "metadata": {},
   "outputs": [
    {
     "name": "stdout",
     "output_type": "stream",
     "text": [
      "[59, 60, 17, 26, 140, 10, 58, 16, 41, 2, 42, 3, 43, 20, 62, 12, 5, 21, 22, 4, 68, 3, 66, 133, 69, 70, 24, 35, 4, 46, 47, 28, 3, 29, 25, 7, 32, 37, 38, 4, 13, 3, 71, 36, 7, 23, 110, 45, 167, 213, 153, 79, 175, 30, 149, 251, 252, 253]\n"
     ]
    }
   ],
   "source": [
    "print(X_train_seq[4])"
   ]
  },
  {
   "cell_type": "code",
   "execution_count": 32,
   "metadata": {},
   "outputs": [],
   "source": [
    "X_train = pad_sequences(X_train_seq, maxlen=maxlen) # padding short truncate long \n",
    "X_test = pad_sequences(X_test_seq, maxlen=maxlen) # padding short truncate long \n",
    "# split into train validation\n",
    "X_trn, X_val, y_trn, y_val = train_test_split(X_train, y_train, test_size=0.2, random_state=2018)\n",
    "# save tokenizer\n",
    "with open('pickle/W2V_tokenizer.pickle', 'wb') as handle:\n",
    "    pickle.dump(tokenizer, handle, protocol=pickle.HIGHEST_PROTOCOL)"
   ]
  },
  {
   "cell_type": "code",
   "execution_count": 33,
   "metadata": {},
   "outputs": [
    {
     "data": {
      "text/plain": [
       "array([  0,   0,   0,   0,   0,   0,   0,   0,   0,   0,   0,   0,   0,\n",
       "         0,   0,   0,   0,   0,   0,   0,   0,   0,   0,   0,   0,   0,\n",
       "         0,   0,   0,   0,   0,   0,   0,   0,   0,   0,   0,   0,   0,\n",
       "         0,   0,   0,  59,  60,  17,  26, 140,  10,  58,  16,  41,   2,\n",
       "        42,   3,  43,  20,  62,  12,   5,  21,  22,   4,  68,   3,  66,\n",
       "       133,  69,  70,  24,  35,   4,  46,  47,  28,   3,  29,  25,   7,\n",
       "        32,  37,  38,   4,  13,   3,  71,  36,   7,  23, 110,  45, 167,\n",
       "       213, 153,  79, 175,  30, 149, 251, 252, 253], dtype=int32)"
      ]
     },
     "execution_count": 33,
     "metadata": {},
     "output_type": "execute_result"
    }
   ],
   "source": [
    "X_train[4]"
   ]
  },
  {
   "cell_type": "code",
   "execution_count": 34,
   "metadata": {},
   "outputs": [],
   "source": [
    "# prepare embedding function\n",
    "#EMBEDDING_FILE = 'data/wiki.simple.vec' #fasttext\n",
    "EMBEDDING_FILE = '../toxic/data/crawl-300d-2M.vec' #word2vec\n",
    "def get_coefs(word, *arr): return word, np.asarray(arr, dtype='float32')\n",
    "embeddings_index = dict(get_coefs(*o.rstrip().rsplit(' ')) for o in open(EMBEDDING_FILE, encoding=\"utf-8\"))"
   ]
  },
  {
   "cell_type": "code",
   "execution_count": 35,
   "metadata": {},
   "outputs": [
    {
     "data": {
      "text/plain": [
       "array([ 5.300e-02,  1.425e-01,  2.356e-01,  3.250e-02,  1.524e-01,\n",
       "       -5.285e-01, -6.986e-01,  2.940e-01, -1.846e-01,  2.978e-01,\n",
       "       -4.154e-01,  5.373e-01, -9.230e-02, -8.650e-02,  7.130e-01,\n",
       "       -2.158e-01,  2.450e-02,  4.117e-01,  3.225e-01,  1.768e-01,\n",
       "        2.857e-01,  4.545e-01,  3.074e-01,  0.000e+00,  2.206e-01,\n",
       "        3.640e-02, -1.090e-01, -5.035e-01,  2.112e-01,  2.529e-01,\n",
       "       -1.290e-01,  4.502e-01,  1.751e-01, -2.473e-01, -2.301e-01,\n",
       "        9.140e-02,  1.990e-02, -2.478e-01,  2.615e-01,  1.470e-02,\n",
       "       -2.760e-02,  2.488e-01, -3.096e-01,  1.380e-02,  6.531e-01,\n",
       "        4.195e-01, -1.694e-01, -2.369e-01,  2.680e-02,  1.500e-03,\n",
       "       -5.027e-01, -1.930e-01,  8.134e-01,  1.928e-01, -1.722e-01,\n",
       "        6.280e-02,  3.229e-01,  4.060e-02,  1.645e-01, -1.127e-01,\n",
       "       -2.610e-02, -1.232e-01,  7.720e-02, -2.452e-01, -2.149e-01,\n",
       "       -1.474e-01,  2.956e-01, -2.539e-01, -2.238e-01,  9.540e-02,\n",
       "        1.480e-02, -1.058e-01, -3.460e-01,  1.490e-01, -1.605e-01,\n",
       "        2.262e-01, -3.316e-01,  1.509e-01,  1.063e-01, -8.610e-02,\n",
       "        1.864e-01,  7.447e-01, -4.922e-01,  4.064e-01,  6.120e-02,\n",
       "        5.900e-02, -7.160e-02, -8.120e-02, -3.901e-01, -2.114e-01,\n",
       "       -2.091e-01,  1.555e-01,  1.930e-01,  2.786e-01, -1.813e-01,\n",
       "       -3.240e-02,  1.710e-01,  9.380e-02, -1.174e-01,  5.792e-01,\n",
       "        1.750e-01,  3.928e-01,  7.800e-03,  4.200e-03, -3.031e-01,\n",
       "       -6.500e-02,  1.252e-01, -2.028e-01, -1.181e-01, -2.570e-01,\n",
       "       -2.780e-02, -2.874e-01,  3.314e-01, -4.733e-01, -5.537e-01,\n",
       "        1.302e-01, -3.040e-02, -9.600e-03,  3.450e-02, -2.622e-01,\n",
       "        2.434e-01, -9.150e-02,  1.900e-01, -1.165e-01,  3.740e-02,\n",
       "       -7.590e-02,  2.199e-01,  4.990e-01,  2.049e-01,  1.812e-01,\n",
       "        9.150e-02,  2.761e-01,  1.915e-01,  7.310e-02, -9.130e-02,\n",
       "       -6.720e-02, -2.661e-01,  4.017e-01,  8.050e-02, -4.210e-01,\n",
       "       -1.980e-02,  8.360e-02,  3.176e-01,  1.901e-01,  1.347e-01,\n",
       "        2.710e-02, -1.569e-01,  2.950e-01, -3.222e-01, -1.802e-01,\n",
       "        4.029e-01, -2.206e-01, -3.295e-01,  4.010e-02, -8.149e-01,\n",
       "        6.180e-02, -1.135e-01, -6.130e-01,  1.024e-01,  3.304e-01,\n",
       "        5.174e-01,  9.900e-03,  2.744e-01, -5.960e-01, -1.632e-01,\n",
       "       -2.993e-01,  1.169e-01,  4.300e-03, -2.418e-01, -7.360e-02,\n",
       "        5.870e-02, -6.890e-02, -3.518e-01, -1.310e-01, -3.827e-01,\n",
       "        1.032e-01,  4.380e-02,  2.920e-01, -1.570e-01, -4.330e-02,\n",
       "       -3.347e-01, -6.560e-02, -2.701e-01,  6.468e-01, -2.351e-01,\n",
       "       -1.591e-01, -3.000e-04,  1.290e-01,  4.990e-02, -3.400e-02,\n",
       "        1.106e-01,  2.527e-01,  1.887e-01,  2.974e-01,  8.170e-02,\n",
       "       -2.210e-01, -1.770e-02,  4.270e-02,  4.870e-02,  1.250e-01,\n",
       "        8.230e-02,  1.903e-01,  3.040e-01,  3.423e-01, -4.290e-01,\n",
       "       -5.318e-01,  4.220e-02, -4.055e-01,  2.748e-01, -9.160e-02,\n",
       "        1.516e-01,  4.580e-01,  2.495e-01, -5.533e-01,  4.930e-01,\n",
       "       -6.090e-02,  3.471e-01,  3.546e-01,  7.270e-02, -4.174e-01,\n",
       "        1.697e-01,  4.316e-01,  1.248e-01,  2.993e-01,  1.815e-01,\n",
       "        2.596e-01, -4.252e-01,  7.900e-02,  2.231e-01,  1.121e-01,\n",
       "       -1.536e-01,  4.008e-01, -2.860e-01, -1.610e-02, -3.368e-01,\n",
       "       -6.229e-01,  2.479e-01, -3.276e-01, -1.629e-01, -4.624e-01,\n",
       "        3.860e-01,  4.190e-02, -6.240e-02,  1.160e-01,  1.812e-01,\n",
       "        3.328e-01,  3.234e-01,  6.790e-02,  2.439e-01, -1.858e-01,\n",
       "        1.870e-02,  5.940e-01,  1.879e-01,  6.087e-01,  5.145e-01,\n",
       "       -4.882e-01,  1.353e-01,  1.120e-01,  5.691e-01, -4.850e-02,\n",
       "       -1.120e-02, -3.362e-01,  3.721e-01,  5.279e-01,  1.717e-01,\n",
       "        3.030e-02,  2.923e-01, -1.350e-02,  3.071e-01, -3.097e-01,\n",
       "       -3.755e-01,  1.794e-01, -2.887e-01, -2.274e-01,  4.089e-01,\n",
       "        2.981e-01, -3.188e-01, -1.296e-01, -3.576e-01,  3.690e-01,\n",
       "       -3.897e-01, -4.493e-01,  4.680e-02,  8.950e-02, -2.052e-01,\n",
       "       -2.530e-01, -1.244e-01,  3.631e-01, -7.270e-02, -1.285e-01,\n",
       "        2.643e-01, -3.326e-01, -2.104e-01, -3.260e-02, -1.669e-01,\n",
       "        7.137e-01, -3.655e-01, -3.300e-03,  3.146e-01,  1.312e-01],\n",
       "      dtype=float32)"
      ]
     },
     "execution_count": 35,
     "metadata": {},
     "output_type": "execute_result"
    }
   ],
   "source": [
    "embeddings_index.get('diabetes')"
   ]
  },
  {
   "cell_type": "code",
   "execution_count": 36,
   "metadata": {},
   "outputs": [
    {
     "data": {
      "text/plain": [
       "59"
      ]
     },
     "execution_count": 36,
     "metadata": {},
     "output_type": "execute_result"
    }
   ],
   "source": [
    "tokenizer.word_index.get('diabetes')"
   ]
  },
  {
   "cell_type": "code",
   "execution_count": 37,
   "metadata": {},
   "outputs": [],
   "source": [
    "# word embedding\n",
    "word_index = tokenizer.word_index\n",
    "nb_words = min(max_features, len(word_index))\n",
    "embedding_matrix = np.zeros((nb_words, embed_size))"
   ]
  },
  {
   "cell_type": "code",
   "execution_count": 38,
   "metadata": {},
   "outputs": [],
   "source": [
    "for word, i in word_index.items():\n",
    "    if i >= max_features: \n",
    "        continue\n",
    "    embedding_vector = embeddings_index.get(word)\n",
    "    if embedding_vector is not None: \n",
    "        embedding_matrix[i-1] = embedding_vector"
   ]
  },
  {
   "cell_type": "code",
   "execution_count": 39,
   "metadata": {},
   "outputs": [],
   "source": [
    "# prepare model metrics\n",
    "class RocAucEvaluation(Callback):\n",
    "    def __init__(self, validation_data=(), interval=1):\n",
    "        super(Callback, self).__init__()\n",
    "\n",
    "        self.interval = interval\n",
    "        self.X_val, self.y_val = validation_data\n",
    "\n",
    "    def on_epoch_end(self, epoch, logs={}):\n",
    "        if epoch % self.interval == 0:\n",
    "            y_pred = self.model.predict(self.X_val, verbose=0)\n",
    "            score = roc_auc_score(self.y_val, y_pred)\n",
    "            print(\"\\n ROC-AUC - epoch: %d - score: %.6f \\n\" % (epoch+1, score))"
   ]
  },
  {
   "cell_type": "code",
   "execution_count": 40,
   "metadata": {},
   "outputs": [],
   "source": [
    "# build model\n",
    "def get_model(model_type='CuDNNGRU'):\n",
    "    inp = Input(shape=(maxlen, ))\n",
    "    x = Embedding(nb_words, embed_size, weights=[embedding_matrix])(inp)\n",
    "    x = SpatialDropout1D(0.4)(x)\n",
    "    if model_type=='CuDNNGRU':\n",
    "        x = Bidirectional(CuDNNGRU(80, return_sequences=True))(x)\n",
    "    elif model_type=='GRU':\n",
    "        x = Bidirectional(GRU(80, return_sequences=True))(x)\n",
    "    elif model_type=='CuDNNLSTM':\n",
    "        x = Bidirectional(CuDNNLSTM(80, return_sequences=True))(x)\n",
    "    elif model_type=='LTSM':\n",
    "        x = Bidirectional(LSTM(80, return_sequences=True))(x)\n",
    "    else:\n",
    "        raise ValueError('Please specify model_type as one of the following:n\\CuDNNGRU, CuDNNLSTM, GRU, LSTM')\n",
    "    avg_pool = GlobalAveragePooling1D()(x)\n",
    "    max_pool = GlobalMaxPooling1D()(x)\n",
    "    conc = concatenate([avg_pool, max_pool])\n",
    "    outp = Dense(y.shape[1], activation=\"sigmoid\")(conc)\n",
    "    \n",
    "    model = Model(inputs=inp, outputs=outp)\n",
    "    model.compile(loss='binary_crossentropy',\n",
    "                  optimizer='adam',\n",
    "                  metrics=['accuracy'])\n",
    "\n",
    "    return model"
   ]
  },
  {
   "cell_type": "code",
   "execution_count": 28,
   "metadata": {
    "scrolled": true
   },
   "outputs": [
    {
     "ename": "TypeError",
     "evalue": "get_model() missing 1 required positional argument: 'embedding_matrix'",
     "output_type": "error",
     "traceback": [
      "\u001b[0;31m---------------------------------------------------------------------------\u001b[0m",
      "\u001b[0;31mTypeError\u001b[0m                                 Traceback (most recent call last)",
      "\u001b[0;32m<ipython-input-28-dc539e0a10d2>\u001b[0m in \u001b[0;36m<module>\u001b[0;34m()\u001b[0m\n\u001b[1;32m      1\u001b[0m \u001b[0;31m# train the model\u001b[0m\u001b[0;34m\u001b[0m\u001b[0;34m\u001b[0m\u001b[0m\n\u001b[0;32m----> 2\u001b[0;31m \u001b[0mmodel\u001b[0m \u001b[0;34m=\u001b[0m \u001b[0mget_model\u001b[0m\u001b[0;34m(\u001b[0m\u001b[0mmodel_type\u001b[0m\u001b[0;34m=\u001b[0m\u001b[0;34m'GRU'\u001b[0m\u001b[0;34m)\u001b[0m\u001b[0;34m\u001b[0m\u001b[0m\n\u001b[0m\u001b[1;32m      3\u001b[0m \u001b[0mbatch_size\u001b[0m \u001b[0;34m=\u001b[0m \u001b[0;36m32\u001b[0m\u001b[0;34m\u001b[0m\u001b[0m\n\u001b[1;32m      4\u001b[0m \u001b[0mepochs\u001b[0m \u001b[0;34m=\u001b[0m \u001b[0;36m2\u001b[0m\u001b[0;34m\u001b[0m\u001b[0m\n\u001b[1;32m      5\u001b[0m \u001b[0mRocAuc\u001b[0m \u001b[0;34m=\u001b[0m \u001b[0mRocAucEvaluation\u001b[0m\u001b[0;34m(\u001b[0m\u001b[0mvalidation_data\u001b[0m\u001b[0;34m=\u001b[0m\u001b[0;34m(\u001b[0m\u001b[0mX_val\u001b[0m\u001b[0;34m,\u001b[0m \u001b[0my_val\u001b[0m\u001b[0;34m)\u001b[0m\u001b[0;34m,\u001b[0m \u001b[0minterval\u001b[0m\u001b[0;34m=\u001b[0m\u001b[0;36m1\u001b[0m\u001b[0;34m)\u001b[0m\u001b[0;34m\u001b[0m\u001b[0m\n",
      "\u001b[0;31mTypeError\u001b[0m: get_model() missing 1 required positional argument: 'embedding_matrix'"
     ]
    }
   ],
   "source": [
    "# train the model \n",
    "model = get_model(model_type='GRU')\n",
    "batch_size = 32\n",
    "epochs = 2\n",
    "RocAuc = RocAucEvaluation(validation_data=(X_val, y_val), interval=1)\n",
    "hist = model.fit(X_trn, y_trn, batch_size=batch_size, epochs=epochs, validation_data=(X_val, y_val),\n",
    "                 callbacks=[RocAuc], verbose=1)"
   ]
  },
  {
   "cell_type": "code",
   "execution_count": null,
   "metadata": {},
   "outputs": [],
   "source": [
    "model.save('model/BiGRU.h5')\n",
    "model.evaluate(X_test, y_test)"
   ]
  },
  {
   "cell_type": "code",
   "execution_count": null,
   "metadata": {},
   "outputs": [],
   "source": [
    "y_pred = model.predict(X_test, verbose=0)\n",
    "score = roc_auc_score(y_test, y_pred)\n",
    "print(\"\\n ROC-AUC for test data - score: %.6f \\n\" % score)"
   ]
  },
  {
   "cell_type": "code",
   "execution_count": null,
   "metadata": {},
   "outputs": [],
   "source": [
    "labels = notes.columns.drop('text')\n",
    "for i, j in enumerate(labels):\n",
    "    test = y_test.iloc[:,i]\n",
    "    score = roc_auc_score(test, y_pred[:,i])\n",
    "    pred = np.round(y_pred[:,i])\n",
    "    title = \"\\n ROC-AUC for %s - score: %.6f \\n\" % (j, score)\n",
    "    pcm(test,pred,normalize=True,title=title)"
   ]
  },
  {
   "cell_type": "code",
   "execution_count": null,
   "metadata": {},
   "outputs": [],
   "source": []
  }
 ],
 "metadata": {
  "celltoolbar": "Slideshow",
  "kernelspec": {
   "display_name": "Python 3",
   "language": "python",
   "name": "python3"
  },
  "language_info": {
   "codemirror_mode": {
    "name": "ipython",
    "version": 3
   },
   "file_extension": ".py",
   "mimetype": "text/x-python",
   "name": "python",
   "nbconvert_exporter": "python",
   "pygments_lexer": "ipython3",
   "version": "3.6.3"
  },
  "varInspector": {
   "cols": {
    "lenName": 16,
    "lenType": 16,
    "lenVar": 40
   },
   "kernels_config": {
    "python": {
     "delete_cmd_postfix": "",
     "delete_cmd_prefix": "del ",
     "library": "var_list.py",
     "varRefreshCmd": "print(var_dic_list())"
    },
    "r": {
     "delete_cmd_postfix": ") ",
     "delete_cmd_prefix": "rm(",
     "library": "var_list.r",
     "varRefreshCmd": "cat(var_dic_list()) "
    }
   },
   "types_to_exclude": [
    "module",
    "function",
    "builtin_function_or_method",
    "instance",
    "_Feature"
   ],
   "window_display": false
  }
 },
 "nbformat": 4,
 "nbformat_minor": 2
}
